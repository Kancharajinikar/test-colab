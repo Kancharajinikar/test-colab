{
  "nbformat": 4,
  "nbformat_minor": 0,
  "metadata": {
    "colab": {
      "provenance": [],
      "authorship_tag": "ABX9TyOouRHKptp0Th/it6Yjbvqf",
      "include_colab_link": true
    },
    "kernelspec": {
      "name": "python3",
      "display_name": "Python 3"
    },
    "language_info": {
      "name": "python"
    }
  },
  "cells": [
    {
      "cell_type": "markdown",
      "metadata": {
        "id": "view-in-github",
        "colab_type": "text"
      },
      "source": [
        "<a href=\"https://colab.research.google.com/github/Kancharajinikar/test-colab/blob/main/first.ipynb\" target=\"_parent\"><img src=\"https://colab.research.google.com/assets/colab-badge.svg\" alt=\"Open In Colab\"/></a>"
      ]
    },
    {
      "cell_type": "code",
      "execution_count": 1,
      "metadata": {
        "colab": {
          "base_uri": "https://localhost:8080/"
        },
        "id": "L33SIDtQBC48",
        "outputId": "60e58e52-5813-4bc6-b88a-bee8740ac405"
      },
      "outputs": [
        {
          "output_type": "stream",
          "name": "stdout",
          "text": [
            "hii hello\n"
          ]
        }
      ],
      "source": [
        "def hello():\n",
        "  return \"hii hello\"\n",
        "print(hello())"
      ]
    },
    {
      "cell_type": "code",
      "source": [
        "def hello(h):\n",
        "  return \"hii {}\".format(h)\n",
        "print(hello(\"rajinikar\"))"
      ],
      "metadata": {
        "id": "ug1vSRNMJ6Ka",
        "outputId": "3a9b0e1b-24f2-4e0d-ce12-e701fea7db72",
        "colab": {
          "base_uri": "https://localhost:8080/"
        }
      },
      "execution_count": 3,
      "outputs": [
        {
          "output_type": "stream",
          "name": "stdout",
          "text": [
            "hii rajinikar\n"
          ]
        }
      ]
    }
  ]
}